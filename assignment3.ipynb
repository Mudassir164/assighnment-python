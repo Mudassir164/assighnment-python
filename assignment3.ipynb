{
 "cells": [
  {
   "cell_type": "code",
   "execution_count": 1,
   "metadata": {},
   "outputs": [
    {
     "name": "stdout",
     "output_type": "stream",
     "text": [
      "calculator\n",
      "Enter value 1...:7\n",
      "Enter value 2...:9\n",
      "selce opertaor +-*/p..:+\n",
      "16\n"
     ]
    }
   ],
   "source": [
    "print(\"calculator\")\n",
    "input1=int(input(\"Enter value 1...:\"))\n",
    "input2=int(input(\"Enter value 2...:\"))\n",
    "opertor=input(\"selce opertaor +-*/p..:\")\n",
    "if opertor=='+':\n",
    "    print(input1+input2)\n",
    "    \n",
    "elif opertor=='-':\n",
    "    print(input1-input2)\n",
    "\n",
    "elif opertor=='*':\n",
    "    print(input1*input2)\n",
    "    \n",
    "elif opertor=='/':\n",
    "    print(input1/input2) \n",
    "\n",
    "elif opertor=='p':\n",
    "    print(input1**input2)\n",
    "    \n",
    "else:\n",
    "    print(\"kindly chose correct operator...!\")"
   ]
  },
  {
   "cell_type": "code",
   "execution_count": 2,
   "metadata": {},
   "outputs": [
    {
     "name": "stdout",
     "output_type": "stream",
     "text": [
      "the numeric values present in the list\n"
     ]
    }
   ],
   "source": [
    "arr=[\"ahmed\",1,\"jawwad\",56,67,45,\"munna\"]\n",
    "i=0\n",
    "j=0\n",
    "\n",
    "for arr1 in arr:\n",
    "    if type(arr1)== int:\n",
    "        j=j+1\n",
    "\n",
    "if j!=0:\n",
    "    print(\"the numeric values present in the list\")\n",
    "    \n",
    "    "
   ]
  },
  {
   "cell_type": "code",
   "execution_count": 13,
   "metadata": {},
   "outputs": [
    {
     "name": "stdout",
     "output_type": "stream",
     "text": [
      "{'first Name': 'Mudassir', 'Last Name': 'Ahmed', 'class': 'First Year', 'university': 'NED'}\n"
     ]
    }
   ],
   "source": [
    "bio_data={}\n",
    "\n",
    "bio_data[\"first Name\"]=\"Mudassir\"\n",
    "bio_data[\"Last name\"]=\"Ahmed\"\n",
    "bio_data[\"Age\"]=20\n",
    "bio_data[\"Nationality\"]=\"Pakistani\"\n",
    "\n",
    "print(bio_data)"
   ]
  },
  {
   "cell_type": "code",
   "execution_count": 16,
   "metadata": {},
   "outputs": [
    {
     "name": "stdout",
     "output_type": "stream",
     "text": [
      "{'first Name': 'Mudassir', 'Last name': 'Ahmed', 'Age': 20, 'Nationality': 'Pakistani'}\n"
     ]
    }
   ],
   "source": [
    "item={\"Sahmpoo\":95,\"Soap\":56,\"CreaA\":67,\"POWDER\":89}\n",
    "i=0\n",
    "\n",
    "for each_numeric in item.values():\n",
    "    i=i+each_numeric\n",
    "    \n",
    "print(\"totla of numeric values=\",i) "
   ]
  },
  {
   "cell_type": "code",
   "execution_count": 17,
   "metadata": {},
   "outputs": [
    {
     "name": "stdout",
     "output_type": "stream",
     "text": [
      "there is duplicate value is presnt\n"
     ]
    }
   ],
   "source": [
    "list1=[\"Mudassir\",\"jawwad\",1,2,3,1,\"Mudassir\"]\n",
    "if len(list1)==len(set(list1)):\n",
    "    print(\"there is no duplicate value\")\n",
    "else:\n",
    "    print(\"there is duplicate value is presnt\")"
   ]
  },
  {
   "cell_type": "code",
   "execution_count": 25,
   "metadata": {},
   "outputs": [
    {
     "name": "stdout",
     "output_type": "stream",
     "text": [
      "any keys to check it is present in the dictionries...:religon\n",
      "the given key is  present in bio data dictionrionry\n"
     ]
    }
   ],
   "source": [
    "bio_data={\"first name\":\"mudassir\",\"Last name\":\"Ahmed\",\"religon\":\"islam\",\"nationality\":\"pakistani\"}\n",
    "b=input(\"any keys to check it is present in the dictionries...:\")\n",
    "i=0;\n",
    "for each_keys in bio_data.keys():\n",
    "    if each_keys==b:\n",
    "        i=i+1\n",
    "        \n",
    "if i==0:\n",
    "    print(\"the given key is not present in bio data dictionry\")\n",
    "else:\n",
    "    print(\"the given key is  present in bio data dictionrionry\")\n",
    "    \n"
   ]
  },
  {
   "cell_type": "code",
   "execution_count": null,
   "metadata": {},
   "outputs": [],
   "source": []
  },
  {
   "cell_type": "code",
   "execution_count": null,
   "metadata": {},
   "outputs": [],
   "source": []
  },
  {
   "cell_type": "code",
   "execution_count": null,
   "metadata": {},
   "outputs": [],
   "source": []
  }
 ],
 "metadata": {
  "kernelspec": {
   "display_name": "Python 3",
   "language": "python",
   "name": "python3"
  },
  "language_info": {
   "codemirror_mode": {
    "name": "ipython",
    "version": 3
   },
   "file_extension": ".py",
   "mimetype": "text/x-python",
   "name": "python",
   "nbconvert_exporter": "python",
   "pygments_lexer": "ipython3",
   "version": "3.7.4"
  }
 },
 "nbformat": 4,
 "nbformat_minor": 2
}
