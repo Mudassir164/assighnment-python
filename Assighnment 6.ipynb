{
 "cells": [
  {
   "cell_type": "code",
   "execution_count": 19,
   "metadata": {},
   "outputs": [
    {
     "name": "stdout",
     "output_type": "stream",
     "text": [
      "4\n",
      "white\n",
      "BMW\n",
      "35km/h\n",
      "1000000\n",
      "1000000 Ddefault name\n",
      "200000 modified name\n"
     ]
    }
   ],
   "source": [
    "class car():\n",
    "    def __init__(self,model,color,name,speed):\n",
    "        self.model=model\n",
    "        self.color=color\n",
    "        self.name=name\n",
    "        self.speed=speed\n",
    "        self.price=1000000\n",
    "        \n",
    "    def updatePriceCar(self,price1):\n",
    "            self.price=int(price1)\n",
    "        \n",
    "\n",
    "car1=car(4,\"white\",\"BMW\",\"35km/h\")\n",
    "print(car1.model)\n",
    "print(car1.color)\n",
    "print(car1.name)\n",
    "print(car1.speed)\n",
    "print(car1.price)\n",
    "print(car1.price,\"Ddefault name\")\n",
    "car1.updatePriceCar(200000)\n",
    "print(car1.price,\"modified name\")"
   ]
  },
  {
   "cell_type": "code",
   "execution_count": null,
   "metadata": {},
   "outputs": [],
   "source": []
  },
  {
   "cell_type": "code",
   "execution_count": null,
   "metadata": {},
   "outputs": [],
   "source": []
  }
 ],
 "metadata": {
  "kernelspec": {
   "display_name": "Python 3",
   "language": "python",
   "name": "python3"
  },
  "language_info": {
   "codemirror_mode": {
    "name": "ipython",
    "version": 3
   },
   "file_extension": ".py",
   "mimetype": "text/x-python",
   "name": "python",
   "nbconvert_exporter": "python",
   "pygments_lexer": "ipython3",
   "version": "3.7.4"
  }
 },
 "nbformat": 4,
 "nbformat_minor": 2
}
