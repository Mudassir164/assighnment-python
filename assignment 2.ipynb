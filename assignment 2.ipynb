{
 "cells": [
  {
   "cell_type": "code",
   "execution_count": 1,
   "metadata": {},
   "outputs": [
    {
     "name": "stdout",
     "output_type": "stream",
     "text": [
      "enter english marks67\n",
      "enter urdu marks78\n",
      "enter maths marks89\n",
      "enter physics marks65\n",
      "enter computer marks67\n",
      " Mark sheet\n",
      "===========\n",
      "\n",
      "\n",
      "english    =  67\n",
      "urdu       =  78\n",
      "maths      =  89\n",
      "physics    =  65\n",
      "computer   =  67\n",
      "total      =  366\n",
      "percentage =  73.2\n",
      "grade      = A\n"
     ]
    }
   ],
   "source": [
    "english=int(input(\"enter english marks\"));\n",
    "urdu=int(input(\"enter urdu marks\"));\n",
    "maths=int(input(\"enter maths marks\"));\n",
    "physics=int(input(\"enter physics marks\"));\n",
    "computer=int(input(\"enter computer marks\"));\n",
    "\n",
    "total=english+urdu+maths+physics+computer;\n",
    "percentage= (total/500*100)\n",
    "print(\"\\n\\n Mark sheet\\n===========\")\n",
    "print(\"\\n\\nenglish    = \",english)\n",
    "print(\"urdu       = \",urdu)\n",
    "print(\"maths      = \",maths)\n",
    "print(\"physics    = \",physics)\n",
    "print(\"computer   = \",computer)\n",
    "print(\"total      = \",total)\n",
    "print(\"percentage = \",percentage)\n",
    " \n",
    "if percentage>=80:\n",
    "    print(\"Grade      = A+\")\n",
    "    \n",
    "elif percentage>=70:\n",
    "    print(\"grade      = A\")\n",
    "    \n",
    "elif percentage>=60:\n",
    "    print(\"grade      = B\")\n",
    "    \n",
    "elif percentage>=50:\n",
    "    print(\"grade      = C\")\n",
    "    \n",
    "elif percentage>=40:\n",
    "    print(\"grade      = D\")\n",
    "    \n",
    "else:\n",
    "    print(\"grade      = Fail\")    "
   ]
  },
  {
   "cell_type": "code",
   "execution_count": 4,
   "metadata": {},
   "outputs": [
    {
     "name": "stdout",
     "output_type": "stream",
     "text": [
      "please enter input to check number is even or odd..:46\n",
      "\n",
      "the given number is even\n"
     ]
    }
   ],
   "source": [
    "input_number=int(input(\"please enter input to check number is even or odd..:\"))\n",
    "\n",
    "if input_number%2==0:\n",
    "    print(\"\\nthe given number is even\")\n",
    "    \n",
    "else:\n",
    "    print(\"\\nthe given number is odd\")"
   ]
  },
  {
   "cell_type": "code",
   "execution_count": 6,
   "metadata": {},
   "outputs": [
    {
     "name": "stdout",
     "output_type": "stream",
     "text": [
      "the length of list is...: 14\n"
     ]
    }
   ],
   "source": [
    "a=[1,2,3,4,5,6,7,8,9,10,11,12,3,14]\n",
    "print(\"the length of list is...:\",len(a))"
   ]
  },
  {
   "cell_type": "code",
   "execution_count": 7,
   "metadata": {},
   "outputs": [
    {
     "name": "stdout",
     "output_type": "stream",
     "text": [
      "the sum of the list is...: 55\n"
     ]
    }
   ],
   "source": [
    "a=[1,2,3,4,5,6,7,8,9,10]\n",
    "print(\"the sum of the list is...:\",sum(a))\n"
   ]
  },
  {
   "cell_type": "code",
   "execution_count": 10,
   "metadata": {},
   "outputs": [
    {
     "name": "stdout",
     "output_type": "stream",
     "text": [
      "the largest number is...: 10\n"
     ]
    }
   ],
   "source": [
    "a=[1,2,3,4,5,6,7,8,9,10]\n",
    "print(\"the largest number is...:\",max(a))"
   ]
  },
  {
   "cell_type": "code",
   "execution_count": 18,
   "metadata": {},
   "outputs": [
    {
     "name": "stdout",
     "output_type": "stream",
     "text": [
      "1\n",
      "2\n",
      "3\n"
     ]
    },
    {
     "ename": "IndexError",
     "evalue": "list index out of range",
     "output_type": "error",
     "traceback": [
      "\u001b[1;31m---------------------------------------------------------------------------\u001b[0m",
      "\u001b[1;31mIndexError\u001b[0m                                Traceback (most recent call last)",
      "\u001b[1;32m<ipython-input-18-f47be27e7e32>\u001b[0m in \u001b[0;36m<module>\u001b[1;34m\u001b[0m\n\u001b[0;32m      2\u001b[0m \u001b[1;33m\u001b[0m\u001b[0m\n\u001b[0;32m      3\u001b[0m \u001b[1;32mfor\u001b[0m \u001b[0mi\u001b[0m \u001b[1;32min\u001b[0m \u001b[0ma\u001b[0m \u001b[1;33m:\u001b[0m\u001b[1;33m\u001b[0m\u001b[1;33m\u001b[0m\u001b[0m\n\u001b[1;32m----> 4\u001b[1;33m     \u001b[1;32mif\u001b[0m \u001b[0ma\u001b[0m\u001b[1;33m[\u001b[0m\u001b[0mi\u001b[0m\u001b[1;33m]\u001b[0m\u001b[1;33m<\u001b[0m\u001b[1;36m5\u001b[0m \u001b[1;33m:\u001b[0m\u001b[1;33m\u001b[0m\u001b[1;33m\u001b[0m\u001b[0m\n\u001b[0m\u001b[0;32m      5\u001b[0m         \u001b[0mprint\u001b[0m\u001b[1;33m(\u001b[0m\u001b[0ma\u001b[0m\u001b[1;33m[\u001b[0m\u001b[0mi\u001b[0m\u001b[1;33m-\u001b[0m\u001b[1;36m1\u001b[0m\u001b[1;33m]\u001b[0m\u001b[1;33m)\u001b[0m\u001b[1;33m\u001b[0m\u001b[1;33m\u001b[0m\u001b[0m\n",
      "\u001b[1;31mIndexError\u001b[0m: list index out of range"
     ]
    }
   ],
   "source": [
    "a=[1,2,3,4,5,6,7,8,9,10]\n",
    "\n",
    "for i in a : \n",
    "    if a[i]<5 : \n",
    "        print(a[i-1])"
   ]
  },
  {
   "cell_type": "code",
   "execution_count": null,
   "metadata": {},
   "outputs": [],
   "source": []
  }
 ],
 "metadata": {
  "kernelspec": {
   "display_name": "Python 3",
   "language": "python",
   "name": "python3"
  },
  "language_info": {
   "codemirror_mode": {
    "name": "ipython",
    "version": 3
   },
   "file_extension": ".py",
   "mimetype": "text/x-python",
   "name": "python",
   "nbconvert_exporter": "python",
   "pygments_lexer": "ipython3",
   "version": "3.7.4"
  }
 },
 "nbformat": 4,
 "nbformat_minor": 2
}
