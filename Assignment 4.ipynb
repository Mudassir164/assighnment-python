{
 "cells": [
  {
   "cell_type": "code",
   "execution_count": 28,
   "metadata": {},
   "outputs": [
    {
     "name": "stdout",
     "output_type": "stream",
     "text": [
      "('first Name', 'Mudassir')\n",
      "('Last Name', 'Ahmed')\n",
      "('Age', 17)\n",
      "('City', 'karachi')\n",
      "\n",
      "\n",
      "\n",
      "{'first Name': 'Mudassir', 'Last Name': 'Ahmed', 'Age': 17, 'City': 'karachi', 'Qulification': 'Inater'}\n",
      "{'first Name': 'Mudassir', 'Last Name': 'Ahmed', 'Age': 17, 'City': 'karachi'}\n"
     ]
    }
   ],
   "source": [
    "# Question1:\n",
    "# Use a dictionary to store information about a person you know. Store their first name, last name, age,\n",
    "# and the city in which they live. You should have keys such as first_name, last_name, age, and city. Print\n",
    "# each piece of information stored in your dictionary. Add a new key value pair about qualification then\n",
    "# update the qualification value to high academic level then delete it.\n",
    "\n",
    "information_student={\"first Name\":\"Mudassir\",\"Last Name\":\"Ahmed\",\"Age\":17,\"City\":\"karachi\"}\n",
    "\n",
    "for information_item in information_student.items():\n",
    "    print(information_item)\n",
    "information_student.update({\"Qulification\":\"Inater\"})\n",
    "print(\"\\n\\n\")\n",
    "print(information_student)\n",
    "del information_student[\"Qulification\"]\n",
    "print(information_student)"
   ]
  },
  {
   "cell_type": "code",
   "execution_count": 29,
   "metadata": {},
   "outputs": [
    {
     "name": "stdout",
     "output_type": "stream",
     "text": [
      "{'Karachi': {'country Name': 'Pakistan', 'Population': '14.9 Million Approx', 'fact of city': 'this city is good'}, 'Mumbai': {'country Name': 'India', 'Population': '18.4 Million Approx', 'fact of city': ' Mumbai Locals are the busiest railways in the world and carry about 2.2 billion passengers every yeae'}, 'Dhaka': {'country Name': 'Bangladesh', 'Population': '200 Million approx', 'fact of city': 'it is the capital of Bangladesh'}}\n"
     ]
    }
   ],
   "source": [
    "# Question2:\n",
    "# Make a dictionary called cities. Use the names of three cities as keys in your dictionary. Create a\n",
    "# dictionary of information about each city and include the country that the city is in, its approximate\n",
    "# population, and one fact about that city. The keys for each city’s dictionary should be something like\n",
    "# country, population, and fact. Print the name of each city and all of the information you have stored\n",
    "# about it.\n",
    "\n",
    "cities={\"Karachi\":\n",
    "      {\"country Name\":\"Pakistan\",\"Population\":\"14.9 Million Approx\",\"fact of city\":\"this city is good\"},\n",
    "       \"Mumbai\":\n",
    "       {\"country Name\":\"India\",\"Population\":\"18.4 Million Approx\",\"fact of city\":\" Mumbai Locals are the busiest railways in the world and carry about 2.2 billion passengers every yeae\"},\n",
    "       \"Dhaka\":\n",
    "       {\"country Name\":\"Bangladesh\",\"Population\":\"200 Million approx\",\"fact of city\":\"it is the capital of Bangladesh\"}\n",
    "      }\n",
    "print(cities)"
   ]
  },
  {
   "cell_type": "code",
   "execution_count": 7,
   "metadata": {},
   "outputs": [
    {
     "name": "stdout",
     "output_type": "stream",
     "text": [
      "please enter your age...:13\n",
      "your movie ticket is $10\n",
      "if you want to check another person movie ticket input Y/y other wise press any key...:y\n",
      "please enter your age...:2\n",
      "your movie ticket is free\n",
      "if you want to check another person movie ticket input Y/y other wise press any key...:j\n"
     ]
    }
   ],
   "source": [
    "# Question3:\n",
    "# A movie theater charges different ticket prices depending on a person’s age. If a person is under the age\n",
    "# of 3, the ticket is free; if they are between 3 and 12, the ticket is $10; and if they are over age 12, the\n",
    "# ticket is $15. Write a loop in which you ask users their age, and then tell them the cost of their movie\n",
    "# ticket.\n",
    "\n",
    "\n",
    "option='Y'\n",
    "while option=='y' or option=='Y':\n",
    "    age=int(input(\"please enter your age...:\"))\n",
    "    \n",
    "    if age<3:\n",
    "        print(\"your movie ticket is free\")\n",
    "    elif age>=3 or age<12:\n",
    "        print(\"your movie ticket is $10\")\n",
    "    else:\n",
    "        print(\"your movie ticket is $15\")\n",
    "        \n",
    "    option=input(\"if you want to check another person movie ticket input Y/y other wise press any key...:\")"
   ]
  },
  {
   "cell_type": "code",
   "execution_count": null,
   "metadata": {},
   "outputs": [],
   "source": []
  },
  {
   "cell_type": "code",
   "execution_count": 30,
   "metadata": {},
   "outputs": [
    {
     "name": "stdout",
     "output_type": "stream",
     "text": [
      "guessing number game\n",
      "=============================\n",
      "\n",
      "please guess the number from 1 to 30    :\n",
      "4\n",
      "\n",
      "try again!! your guseeing number less than random number\n",
      "please guess the number from 1 to 30    :\n",
      "5\n",
      "\n",
      "try again!! your guseeing number less than random number\n",
      "please guess the number from 1 to 30    :\n",
      "7\n",
      "\n",
      "try again!! your guseeing number less than random number\n",
      "if you want to play again this game press 'Y/y' if not press any key j\n"
     ]
    }
   ],
   "source": [
    "# Question4:\n",
    "# Write a function called favorite_book() that accepts one parameter, title. The function should print a\n",
    "# message, such as One of my favorite books is Alice in Wonderland. Call the function, making sure to\n",
    "# include a book title as an argument in the function call.\n",
    "\n",
    "option='y'\n",
    "print(\"guessing number game\\n=============================\\n\")\n",
    "while option=='Y'or option=='y':\n",
    "    import random\n",
    "    random_number=random.randint(1,30)\n",
    "    i=1\n",
    "    while i<=3:\n",
    "        \n",
    "        guess_number=int(input(\"please guess the number from 1 to 30    :\\n\"))\n",
    "        i=i+1\n",
    "        if guess_number==random_number:\n",
    "            print(\"\\ncongratulation!!! you chose correct number {}\".format(random_number))\n",
    "            break\n",
    "            \n",
    "        elif guess_number>random_number:\n",
    "            print(\"\\ntry again!!your guessing number greater than random number\")\n",
    "            \n",
    "        else:\n",
    "            print(\"\\ntry again!! your guseeing number less than random number\")\n",
    "         \n",
    "    option=input(\"if you want to play again this game press 'Y/y' if not press any key \")"
   ]
  },
  {
   "cell_type": "code",
   "execution_count": 31,
   "metadata": {},
   "outputs": [
    {
     "name": "stdout",
     "output_type": "stream",
     "text": [
      "this is my fovourite book is wonder land\n"
     ]
    }
   ],
   "source": [
    "# Question5:\n",
    "# Guess the number game\n",
    "# Write a program which randomly generate a number between 1 to 30 and ask the user in input field to\n",
    "# guess the correct number. Give three chances to user guess the number and also give hint to user if\n",
    "# hidden number is greater or smaller than the number he given to input field.\n",
    "\n",
    "def favrourite_book(book):\n",
    "    print(\"this is my fovourite book is wonder land\")\n",
    "favrourite_book(\"star world\")"
   ]
  },
  {
   "cell_type": "code",
   "execution_count": null,
   "metadata": {},
   "outputs": [],
   "source": []
  }
 ],
 "metadata": {
  "kernelspec": {
   "display_name": "Python 3",
   "language": "python",
   "name": "python3"
  },
  "language_info": {
   "codemirror_mode": {
    "name": "ipython",
    "version": 3
   },
   "file_extension": ".py",
   "mimetype": "text/x-python",
   "name": "python",
   "nbconvert_exporter": "python",
   "pygments_lexer": "ipython3",
   "version": "3.7.4"
  }
 },
 "nbformat": 4,
 "nbformat_minor": 2
}
