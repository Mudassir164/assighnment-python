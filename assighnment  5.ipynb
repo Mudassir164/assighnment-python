{
 "cells": [
  {
   "cell_type": "code",
   "execution_count": 1,
   "metadata": {},
   "outputs": [
    {
     "name": "stdout",
     "output_type": "stream",
     "text": [
      "The fictorial is...:\n",
      "120\n"
     ]
    }
   ],
   "source": [
    "#  Question:1\n",
    "#  Write a Python function to calculate the factorial of a number (a non-negative\n",
    "#  integer). The function accepts the number as an argument.\n",
    "\n",
    "# fictorial function\n",
    "\n",
    "def fictorial(num):\n",
    "    if num>0 or num==0:\n",
    "        f=1\n",
    "        i=1\n",
    "        while i<=num:\n",
    "            f=f*i\n",
    "            i=i+1\n",
    "            \n",
    "        return f\n",
    "fic=fictorial(5)\n",
    "print(\"The fictorial is...:\")    \n",
    "print(fic)    \n",
    "    "
   ]
  },
  {
   "cell_type": "code",
   "execution_count": 22,
   "metadata": {},
   "outputs": [
    {
     "name": "stdout",
     "output_type": "stream",
     "text": [
      "the upper case value is \n",
      "5\n",
      "the lower case value is \n",
      "9\n"
     ]
    }
   ],
   "source": [
    "#  Question:2\n",
    "#  Write a Python function that accepts a string and calculate the number of upper\n",
    "#  case letters and lower case letters.\n",
    "\n",
    "def case_calculator(string1):\n",
    "    count1=0\n",
    "    count2=0\n",
    "    for i in string1:\n",
    "        if (i.islower()):\n",
    "            count1=count1+1\n",
    "        \n",
    "        elif (i.isupper()):\n",
    "            count2=count2+1\n",
    "    print(\"the upper case value is \")\n",
    "    print(count2)\n",
    "    print(\"the lower case value is \")\n",
    "    print(count1)\n",
    "    \n",
    "case_calculator(\"jjjsfsfsjHHHEI\")"
   ]
  },
  {
   "cell_type": "code",
   "execution_count": 25,
   "metadata": {},
   "outputs": [
    {
     "name": "stdout",
     "output_type": "stream",
     "text": [
      "2\n",
      "4\n",
      "6\n",
      "8\n",
      "10\n"
     ]
    }
   ],
   "source": [
    "#  Question:3\n",
    "#  Write a Python function to print the even numbers from a given list.\n",
    "\n",
    "number=[1,2,3,4,5,6,7,8,9,10]\n",
    "def even_number(num):\n",
    "    for i in num:\n",
    "        if i%2==0:\n",
    "            print(i)\n",
    "even_number(number)"
   ]
  },
  {
   "cell_type": "code",
   "execution_count": 18,
   "metadata": {},
   "outputs": [
    {
     "name": "stdout",
     "output_type": "stream",
     "text": [
      "this is plindrome\n"
     ]
    }
   ],
   "source": [
    "# Question:4\n",
    "# Write a Python function that checks whether a passed string is palindrome or not.\n",
    "# Note: A palindrome is a word, phrase, or sequence that reads the same\n",
    "# backward as forward, e.g., madam\n",
    "\n",
    "def plindrome_check(string):\n",
    "    reversd=[]\n",
    "    reversd=''.join(reversed(string))\n",
    "    \n",
    "    if string==reversd:\n",
    "        print(\"this is plindrome\")\n",
    "    else:\n",
    "        print(\"this is not plindrome\")        \n",
    "  \n",
    "plindrome_check(\"non\")"
   ]
  },
  {
   "cell_type": "code",
   "execution_count": 28,
   "metadata": {},
   "outputs": [
    {
     "name": "stdout",
     "output_type": "stream",
     "text": [
      "this is not prime number\n"
     ]
    }
   ],
   "source": [
    "#  Question:5\n",
    "#  Write a Python function that takes a number as a parameter and check the\n",
    "#  number is prime or not.\n",
    "\n",
    "def prime_number_check(number):\n",
    "    if number>=2:\n",
    "        i=1\n",
    "        j=0\n",
    "        while i<=number:\n",
    "            if number%i==0:\n",
    "                j=j+1\n",
    "            i=i+1\n",
    "        if j==2:\n",
    "            print(\"this is prime number\")\n",
    "        else:\n",
    "            print(\"this is not prime number\")\n",
    "    else:\n",
    "        print(\"this is not prime number\")\n",
    "\n",
    "prime_number_check(8)"
   ]
  },
  {
   "cell_type": "code",
   "execution_count": 32,
   "metadata": {},
   "outputs": [
    {
     "name": "stdout",
     "output_type": "stream",
     "text": [
      "shopping list of user which is user bought\n",
      "\n",
      "=========================================\n",
      "\n",
      "shampo\n",
      "powder\n",
      "cream\n",
      "soap\n",
      "oil\n",
      "make up saman\n"
     ]
    }
   ],
   "source": [
    "# Question: 6\n",
    "# Suppose a customer is shopping in a market and you need to print all the items\n",
    "# which user bought from market.\n",
    "# Write a function which accepts the multiple arguments of user shopping list and\n",
    "# print all the items which user bought from market.\n",
    "\n",
    "def customer_bought_listt(*bought):\n",
    "    print(\"shopping list of user which is user bought\")\n",
    "    print(\"\\n=========================================\\n\")\n",
    "    for list1 in bought:\n",
    "        print(list1)\n",
    "        \n",
    "customer_bought_listt(\"shampo\",\"powder\",\"cream\",\"soap\",\"oil\",\"make up saman\")"
   ]
  },
  {
   "cell_type": "code",
   "execution_count": null,
   "metadata": {},
   "outputs": [],
   "source": []
  }
 ],
 "metadata": {
  "kernelspec": {
   "display_name": "Python 3",
   "language": "python",
   "name": "python3"
  },
  "language_info": {
   "codemirror_mode": {
    "name": "ipython",
    "version": 3
   },
   "file_extension": ".py",
   "mimetype": "text/x-python",
   "name": "python",
   "nbconvert_exporter": "python",
   "pygments_lexer": "ipython3",
   "version": "3.7.4"
  }
 },
 "nbformat": 4,
 "nbformat_minor": 2
}
