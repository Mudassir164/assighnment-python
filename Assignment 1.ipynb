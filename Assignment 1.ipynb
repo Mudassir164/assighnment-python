{
 "cells": [
  {
   "cell_type": "code",
   "execution_count": 1,
   "metadata": {},
   "outputs": [
    {
     "name": "stdout",
     "output_type": "stream",
     "text": [
      "Twinkle, twinkle, little, star,\n",
      "\n",
      "\tHow I wonder what you are,\n",
      "\n",
      "\t\tup above the world so high,\n",
      "\n",
      "\t\tLike a diamond in the sky.\n",
      "\n",
      "Twinkle, twinkle, little, star,\n",
      "\n",
      "\tHow I wonder what you are\n"
     ]
    }
   ],
   "source": [
    "print(\"Twinkle, twinkle, little, star,\\n\")\n",
    "print(\"\\tHow I wonder what you are,\\n\")\n",
    "print(\"\\t\\tup above the world so high,\\n\")\n",
    "print(\"\\t\\tLike a diamond in the sky.\\n\")\n",
    "print(\"Twinkle, twinkle, little, star,\\n\")\n",
    "print(\"\\tHow I wonder what you are\")"
   ]
  },
  {
   "cell_type": "code",
   "execution_count": 2,
   "metadata": {},
   "outputs": [
    {
     "name": "stdout",
     "output_type": "stream",
     "text": [
      "3.7.4\n"
     ]
    }
   ],
   "source": [
    "from platform import python_version\n",
    "print(python_version())"
   ]
  },
  {
   "cell_type": "code",
   "execution_count": 4,
   "metadata": {},
   "outputs": [
    {
     "name": "stdout",
     "output_type": "stream",
     "text": [
      "please enter the radius56.6\n",
      "the area is...: 10065.585519999999\n"
     ]
    }
   ],
   "source": [
    "pi=3.142\n",
    "radius=float(input(\"please enter the radius\"))\n",
    "area=((radius**2)*pi)\n",
    "print(\"the area is...:\",area)"
   ]
  },
  {
   "cell_type": "code",
   "execution_count": 14,
   "metadata": {},
   "outputs": [
    {
     "name": "stdout",
     "output_type": "stream",
     "text": [
      "first Name...:Mudassir\n",
      "Last Name.....:Ahmed\n",
      "the reversd name is...: Ahmed\tMudassir\n"
     ]
    }
   ],
   "source": [
    "rs_first_name=(input(\"first Name...:\"))\n",
    "rs_last_name=(input(\"Last Name.....:\"))\n",
    "space=\"\\t\"\n",
    "print(\"the reversd name is...:\",rs_last_name+space+rs_first_name )"
   ]
  },
  {
   "cell_type": "code",
   "execution_count": 15,
   "metadata": {},
   "outputs": [
    {
     "name": "stdout",
     "output_type": "stream",
     "text": [
      "23\n",
      "34\n",
      "The Addition of two number is...: 57\n"
     ]
    }
   ],
   "source": [
    "num1=int(input())\n",
    "num2=int(input())\n",
    "print(\"The Addition of two number is...:\",num1+num2)"
   ]
  },
  {
   "cell_type": "code",
   "execution_count": 16,
   "metadata": {},
   "outputs": [
    {
     "name": "stdout",
     "output_type": "stream",
     "text": [
      "the current date and time is :\n",
      "03-11-19 10:43:35\n"
     ]
    }
   ],
   "source": [
    "import datetime\n",
    "now=datetime.datetime.now()\n",
    "print(\"the current date and time is :\")\n",
    "print(now.strftime(\"%d-%m-%y %H:%M:%S\"))"
   ]
  },
  {
   "cell_type": "code",
   "execution_count": null,
   "metadata": {},
   "outputs": [],
   "source": []
  }
 ],
 "metadata": {
  "kernelspec": {
   "display_name": "Python 3",
   "language": "python",
   "name": "python3"
  },
  "language_info": {
   "codemirror_mode": {
    "name": "ipython",
    "version": 3
   },
   "file_extension": ".py",
   "mimetype": "text/x-python",
   "name": "python",
   "nbconvert_exporter": "python",
   "pygments_lexer": "ipython3",
   "version": "3.7.4"
  }
 },
 "nbformat": 4,
 "nbformat_minor": 2
}
